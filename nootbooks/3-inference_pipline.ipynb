{
 "cells": [
  {
   "cell_type": "code",
   "execution_count": 188,
   "metadata": {},
   "outputs": [],
   "source": [
    "import sys\n",
    "import os\n",
    "\n",
    "sys.path.append(os.path.abspath(\"../\"))\n",
    "\n",
    "from src.paths import RAW_DATA_electricity_DIR"
   ]
  },
  {
   "cell_type": "code",
   "execution_count": 189,
   "metadata": {},
   "outputs": [
    {
     "name": "stdout",
     "output_type": "stream",
     "text": [
      "The autoreload extension is already loaded. To reload it, use:\n",
      "  %reload_ext autoreload\n"
     ]
    }
   ],
   "source": [
    "%load_ext autoreload\n",
    "%autoreload 2"
   ]
  },
  {
   "cell_type": "code",
   "execution_count": 190,
   "metadata": {},
   "outputs": [],
   "source": [
    "from datetime import datetime, timedelta\n",
    "\n",
    "import hopsworks\n",
    "# from hsfs.feature_store import FeatureStore\n",
    "import pandas as pd\n",
    "import numpy as np\n",
    "\n",
    "import src.component.feature_group_config as config\n",
    "from src.component.feature_store_api import get_feature_store, get_or_create_feature_view\n",
    "from src.component.feature_group_config import FEATURE_VIEW_METADATA"
   ]
  },
  {
   "cell_type": "code",
   "execution_count": 191,
   "metadata": {},
   "outputs": [
    {
     "data": {
      "text/plain": [
       "Timestamp('2025-04-12 15:00:00+0000', tz='UTC')"
      ]
     },
     "execution_count": 191,
     "metadata": {},
     "output_type": "execute_result"
    }
   ],
   "source": [
    "current_date = pd.to_datetime(datetime.utcnow(),utc=True).floor('h')\n",
    "current_date"
   ]
  },
  {
   "cell_type": "code",
   "execution_count": 192,
   "metadata": {},
   "outputs": [],
   "source": [
    "# date = pd.to_datetime('2024-04-05')"
   ]
  },
  {
   "cell_type": "code",
   "execution_count": 193,
   "metadata": {},
   "outputs": [],
   "source": [
    "# date"
   ]
  },
  {
   "cell_type": "code",
   "execution_count": 194,
   "metadata": {},
   "outputs": [
    {
     "name": "stdout",
     "output_type": "stream",
     "text": [
      "2025-04-12 15:33:43,587 INFO: Closing external client and cleaning up certificates.\n",
      "Connection closed.\n",
      "2025-04-12 15:33:43,589 INFO: Initializing external client\n",
      "2025-04-12 15:33:43,590 INFO: Base URL: https://c.app.hopsworks.ai:443\n"
     ]
    },
    {
     "name": "stdout",
     "output_type": "stream",
     "text": [
      "2025-04-12 15:33:44,077 INFO: Python Engine initialized.\n",
      "\n",
      "Logged in to project, explore it here https://c.app.hopsworks.ai:443/p/1222815\n"
     ]
    }
   ],
   "source": [
    "import hopsworks \n",
    "project = hopsworks.login()\n",
    "fs = project.get_feature_store(name='mix_featurestore')\n",
    "fv = fs.get_feature_view('electricity_demand_feature_view', version=1)"
   ]
  },
  {
   "cell_type": "code",
   "execution_count": 195,
   "metadata": {},
   "outputs": [
    {
     "name": "stdout",
     "output_type": "stream",
     "text": [
      "Finished: Reading data from Hopsworks, using Hopsworks Feature Query Service (0.61s) \n"
     ]
    }
   ],
   "source": [
    "df = fv.get_batch_data()"
   ]
  },
  {
   "cell_type": "code",
   "execution_count": 196,
   "metadata": {},
   "outputs": [
    {
     "data": {
      "text/html": [
       "<div>\n",
       "<style scoped>\n",
       "    .dataframe tbody tr th:only-of-type {\n",
       "        vertical-align: middle;\n",
       "    }\n",
       "\n",
       "    .dataframe tbody tr th {\n",
       "        vertical-align: top;\n",
       "    }\n",
       "\n",
       "    .dataframe thead th {\n",
       "        text-align: right;\n",
       "    }\n",
       "</style>\n",
       "<table border=\"1\" class=\"dataframe\">\n",
       "  <thead>\n",
       "    <tr style=\"text-align: right;\">\n",
       "      <th></th>\n",
       "      <th>date</th>\n",
       "      <th>sub_region_code</th>\n",
       "      <th>demand</th>\n",
       "      <th>temperature_2m</th>\n",
       "    </tr>\n",
       "  </thead>\n",
       "  <tbody>\n",
       "    <tr>\n",
       "      <th>0</th>\n",
       "      <td>2024-04-18 17:00:00+00:00</td>\n",
       "      <td>1</td>\n",
       "      <td>850</td>\n",
       "      <td>13.858500</td>\n",
       "    </tr>\n",
       "    <tr>\n",
       "      <th>1</th>\n",
       "      <td>2024-08-10 11:00:00+00:00</td>\n",
       "      <td>8</td>\n",
       "      <td>524</td>\n",
       "      <td>23.908501</td>\n",
       "    </tr>\n",
       "    <tr>\n",
       "      <th>2</th>\n",
       "      <td>2024-04-08 19:00:00+00:00</td>\n",
       "      <td>8</td>\n",
       "      <td>505</td>\n",
       "      <td>11.058500</td>\n",
       "    </tr>\n",
       "    <tr>\n",
       "      <th>3</th>\n",
       "      <td>2024-09-21 20:00:00+00:00</td>\n",
       "      <td>4</td>\n",
       "      <td>627</td>\n",
       "      <td>13.808500</td>\n",
       "    </tr>\n",
       "    <tr>\n",
       "      <th>4</th>\n",
       "      <td>2024-03-08 20:00:00+00:00</td>\n",
       "      <td>1</td>\n",
       "      <td>1235</td>\n",
       "      <td>1.558500</td>\n",
       "    </tr>\n",
       "  </tbody>\n",
       "</table>\n",
       "</div>"
      ],
      "text/plain": [
       "                       date  sub_region_code demand  temperature_2m\n",
       "0 2024-04-18 17:00:00+00:00                1    850       13.858500\n",
       "1 2024-08-10 11:00:00+00:00                8    524       23.908501\n",
       "2 2024-04-08 19:00:00+00:00                8    505       11.058500\n",
       "3 2024-09-21 20:00:00+00:00                4    627       13.808500\n",
       "4 2024-03-08 20:00:00+00:00                1   1235        1.558500"
      ]
     },
     "execution_count": 196,
     "metadata": {},
     "output_type": "execute_result"
    }
   ],
   "source": [
    "df.head()"
   ]
  },
  {
   "cell_type": "code",
   "execution_count": 197,
   "metadata": {},
   "outputs": [
    {
     "data": {
      "text/html": [
       "<div>\n",
       "<style scoped>\n",
       "    .dataframe tbody tr th:only-of-type {\n",
       "        vertical-align: middle;\n",
       "    }\n",
       "\n",
       "    .dataframe tbody tr th {\n",
       "        vertical-align: top;\n",
       "    }\n",
       "\n",
       "    .dataframe thead th {\n",
       "        text-align: right;\n",
       "    }\n",
       "</style>\n",
       "<table border=\"1\" class=\"dataframe\">\n",
       "  <thead>\n",
       "    <tr style=\"text-align: right;\">\n",
       "      <th></th>\n",
       "      <th>date</th>\n",
       "      <th>sub_region_code</th>\n",
       "      <th>demand</th>\n",
       "      <th>temperature_2m</th>\n",
       "    </tr>\n",
       "  </thead>\n",
       "  <tbody>\n",
       "    <tr>\n",
       "      <th>96520</th>\n",
       "      <td>2024-12-03 03:00:00+00:00</td>\n",
       "      <td>5</td>\n",
       "      <td>1356</td>\n",
       "      <td>-2.3915</td>\n",
       "    </tr>\n",
       "    <tr>\n",
       "      <th>96521</th>\n",
       "      <td>2024-01-15 21:00:00+00:00</td>\n",
       "      <td>10</td>\n",
       "      <td>2213</td>\n",
       "      <td>3.9085</td>\n",
       "    </tr>\n",
       "    <tr>\n",
       "      <th>96522</th>\n",
       "      <td>2024-06-21 10:00:00+00:00</td>\n",
       "      <td>1</td>\n",
       "      <td>973</td>\n",
       "      <td>18.6085</td>\n",
       "    </tr>\n",
       "    <tr>\n",
       "      <th>96523</th>\n",
       "      <td>2024-03-02 02:00:00+00:00</td>\n",
       "      <td>8</td>\n",
       "      <td>643</td>\n",
       "      <td>1.0585</td>\n",
       "    </tr>\n",
       "    <tr>\n",
       "      <th>96524</th>\n",
       "      <td>2024-09-18 23:00:00+00:00</td>\n",
       "      <td>0</td>\n",
       "      <td>1798</td>\n",
       "      <td>17.0585</td>\n",
       "    </tr>\n",
       "  </tbody>\n",
       "</table>\n",
       "</div>"
      ],
      "text/plain": [
       "                           date  sub_region_code demand  temperature_2m\n",
       "96520 2024-12-03 03:00:00+00:00                5   1356         -2.3915\n",
       "96521 2024-01-15 21:00:00+00:00               10   2213          3.9085\n",
       "96522 2024-06-21 10:00:00+00:00                1    973         18.6085\n",
       "96523 2024-03-02 02:00:00+00:00                8    643          1.0585\n",
       "96524 2024-09-18 23:00:00+00:00                0   1798         17.0585"
      ]
     },
     "execution_count": 197,
     "metadata": {},
     "output_type": "execute_result"
    }
   ],
   "source": [
    "df.tail()"
   ]
  },
  {
   "cell_type": "code",
   "execution_count": 198,
   "metadata": {},
   "outputs": [
    {
     "name": "stdout",
     "output_type": "stream",
     "text": [
      "2025-04-12 15:34:00,170 INFO: Closing external client and cleaning up certificates.\n",
      "Connection closed.\n",
      "2025-04-12 15:34:00,174 INFO: Initializing external client\n",
      "2025-04-12 15:34:00,174 INFO: Base URL: https://c.app.hopsworks.ai:443\n",
      "2025-04-12 15:34:00,641 INFO: Python Engine initialized.\n",
      "\n",
      "Logged in to project, explore it here https://c.app.hopsworks.ai:443/p/1222815\n"
     ]
    },
    {
     "name": "stdout",
     "output_type": "stream",
     "text": [
      "2025-04-12 15:34:01,904 INFO: Feature view already exists, skipping creation.\n",
      "2025-04-12 15:34:01,905 INFO: Closing external client and cleaning up certificates.\n",
      "Connection closed.\n",
      "2025-04-12 15:34:01,911 INFO: Initializing external client\n",
      "2025-04-12 15:34:01,912 INFO: Base URL: https://c.app.hopsworks.ai:443\n",
      "2025-04-12 15:34:02,354 INFO: Python Engine initialized.\n",
      "\n",
      "Logged in to project, explore it here https://c.app.hopsworks.ai:443/p/1222815\n",
      "Finished: Reading data from Hopsworks, using Hopsworks Feature Query Service (0.42s) \n",
      "Dates before filtering:\n",
      "NaT NaT\n",
      "Empty DataFrame\n",
      "Columns: [date, sub_region_code, demand, temperature_2m]\n",
      "Index: []\n",
      "Dates after filtering:\n",
      "NaT NaT\n",
      "Index([], dtype='int64', name='sub_region_code')\n",
      "Filtered out sub-regions that do not meet the required 672 records.\n"
     ]
    }
   ],
   "source": [
    "#load recent batch of data from feature store\n",
    "from src.component.inference import load_batch_of_features_from_store\n",
    "# features = load_batch_of_features_from_store(current_date)\n",
    "features = load_batch_of_features_from_store(current_date)"
   ]
  },
  {
   "cell_type": "code",
   "execution_count": 199,
   "metadata": {},
   "outputs": [
    {
     "data": {
      "text/html": [
       "<div>\n",
       "<style scoped>\n",
       "    .dataframe tbody tr th:only-of-type {\n",
       "        vertical-align: middle;\n",
       "    }\n",
       "\n",
       "    .dataframe tbody tr th {\n",
       "        vertical-align: top;\n",
       "    }\n",
       "\n",
       "    .dataframe thead th {\n",
       "        text-align: right;\n",
       "    }\n",
       "</style>\n",
       "<table border=\"1\" class=\"dataframe\">\n",
       "  <thead>\n",
       "    <tr style=\"text-align: right;\">\n",
       "      <th></th>\n",
       "      <th>demand_previous_672_hour</th>\n",
       "      <th>demand_previous_671_hour</th>\n",
       "      <th>demand_previous_670_hour</th>\n",
       "      <th>demand_previous_669_hour</th>\n",
       "      <th>demand_previous_668_hour</th>\n",
       "      <th>demand_previous_667_hour</th>\n",
       "      <th>demand_previous_666_hour</th>\n",
       "      <th>demand_previous_665_hour</th>\n",
       "      <th>demand_previous_664_hour</th>\n",
       "      <th>demand_previous_663_hour</th>\n",
       "      <th>...</th>\n",
       "      <th>demand_previous_7_hour</th>\n",
       "      <th>demand_previous_6_hour</th>\n",
       "      <th>demand_previous_5_hour</th>\n",
       "      <th>demand_previous_4_hour</th>\n",
       "      <th>demand_previous_3_hour</th>\n",
       "      <th>demand_previous_2_hour</th>\n",
       "      <th>demand_previous_1_hour</th>\n",
       "      <th>temperature_2m</th>\n",
       "      <th>date</th>\n",
       "      <th>sub_region_code</th>\n",
       "    </tr>\n",
       "  </thead>\n",
       "  <tbody>\n",
       "  </tbody>\n",
       "</table>\n",
       "<p>0 rows × 675 columns</p>\n",
       "</div>"
      ],
      "text/plain": [
       "Empty DataFrame\n",
       "Columns: [demand_previous_672_hour, demand_previous_671_hour, demand_previous_670_hour, demand_previous_669_hour, demand_previous_668_hour, demand_previous_667_hour, demand_previous_666_hour, demand_previous_665_hour, demand_previous_664_hour, demand_previous_663_hour, demand_previous_662_hour, demand_previous_661_hour, demand_previous_660_hour, demand_previous_659_hour, demand_previous_658_hour, demand_previous_657_hour, demand_previous_656_hour, demand_previous_655_hour, demand_previous_654_hour, demand_previous_653_hour, demand_previous_652_hour, demand_previous_651_hour, demand_previous_650_hour, demand_previous_649_hour, demand_previous_648_hour, demand_previous_647_hour, demand_previous_646_hour, demand_previous_645_hour, demand_previous_644_hour, demand_previous_643_hour, demand_previous_642_hour, demand_previous_641_hour, demand_previous_640_hour, demand_previous_639_hour, demand_previous_638_hour, demand_previous_637_hour, demand_previous_636_hour, demand_previous_635_hour, demand_previous_634_hour, demand_previous_633_hour, demand_previous_632_hour, demand_previous_631_hour, demand_previous_630_hour, demand_previous_629_hour, demand_previous_628_hour, demand_previous_627_hour, demand_previous_626_hour, demand_previous_625_hour, demand_previous_624_hour, demand_previous_623_hour, demand_previous_622_hour, demand_previous_621_hour, demand_previous_620_hour, demand_previous_619_hour, demand_previous_618_hour, demand_previous_617_hour, demand_previous_616_hour, demand_previous_615_hour, demand_previous_614_hour, demand_previous_613_hour, demand_previous_612_hour, demand_previous_611_hour, demand_previous_610_hour, demand_previous_609_hour, demand_previous_608_hour, demand_previous_607_hour, demand_previous_606_hour, demand_previous_605_hour, demand_previous_604_hour, demand_previous_603_hour, demand_previous_602_hour, demand_previous_601_hour, demand_previous_600_hour, demand_previous_599_hour, demand_previous_598_hour, demand_previous_597_hour, demand_previous_596_hour, demand_previous_595_hour, demand_previous_594_hour, demand_previous_593_hour, demand_previous_592_hour, demand_previous_591_hour, demand_previous_590_hour, demand_previous_589_hour, demand_previous_588_hour, demand_previous_587_hour, demand_previous_586_hour, demand_previous_585_hour, demand_previous_584_hour, demand_previous_583_hour, demand_previous_582_hour, demand_previous_581_hour, demand_previous_580_hour, demand_previous_579_hour, demand_previous_578_hour, demand_previous_577_hour, demand_previous_576_hour, demand_previous_575_hour, demand_previous_574_hour, demand_previous_573_hour, ...]\n",
       "Index: []\n",
       "\n",
       "[0 rows x 675 columns]"
      ]
     },
     "execution_count": 199,
     "metadata": {},
     "output_type": "execute_result"
    }
   ],
   "source": [
    "features"
   ]
  },
  {
   "cell_type": "code",
   "execution_count": 200,
   "metadata": {},
   "outputs": [],
   "source": [
    "# from src.component.inference import (\n",
    "#     load_model_from_registry,\n",
    "#     get_model_predictions\n",
    "# )\n",
    "\n",
    "# model = load_model_from_registry()\n",
    "# predictions = get_model_predictions(model, features)"
   ]
  },
  {
   "cell_type": "code",
   "execution_count": 201,
   "metadata": {},
   "outputs": [],
   "source": [
    "# predictions['date'] = current_date\n",
    "# #predictions['seconds'] = predictions['date'].astype('int64') // 10**6\n",
    "# predictions"
   ]
  },
  {
   "cell_type": "code",
   "execution_count": 202,
   "metadata": {},
   "outputs": [],
   "source": [
    "# from src.plot import plot_one_sample\n",
    "\n",
    "# plot_one_sample(\n",
    "#     example_id=6,\n",
    "#     features=features,\n",
    "#     targets=predictions['predicted_demand'],\n",
    "#     predictions=pd.Series(predictions['predicted_demand'])\n",
    "# )"
   ]
  },
  {
   "cell_type": "code",
   "execution_count": 203,
   "metadata": {},
   "outputs": [],
   "source": [
    "# from src.plot import plot_one_sample\n",
    "\n",
    "# plot_one_sample(\n",
    "#     example_id=8,\n",
    "#     features=features,\n",
    "#     targets=predictions['predicted_demand'],\n",
    "#     predictions=pd.Series(predictions['predicted_demand'])\n",
    "# )"
   ]
  },
  {
   "cell_type": "code",
   "execution_count": 204,
   "metadata": {},
   "outputs": [],
   "source": [
    "# #save predictions to the feature store\n",
    "# from src.component.feature_store_api import get_feature_store\n",
    "# import src.component.feature_group_config as config\n",
    "\n",
    "# # connect to the feature group\n",
    "# feature_group = get_feature_store().get_or_create_feature_group(\n",
    "#     name=config.FEATURE_GROUP_MODEL_PREDICTIONS,\n",
    "#     version=1,\n",
    "#     description=\"Predictions generate by our production model\",\n",
    "#     primary_key = ['sub_region_code', 'date'],\n",
    "#     event_time='date'\n",
    "# )\n",
    "\n"
   ]
  },
  {
   "cell_type": "code",
   "execution_count": 205,
   "metadata": {},
   "outputs": [],
   "source": [
    "# feature_group.insert(predictions, write_options={\"wait_for_job\": False})"
   ]
  },
  {
   "cell_type": "code",
   "execution_count": 206,
   "metadata": {},
   "outputs": [],
   "source": [
    "data = df.copy()"
   ]
  },
  {
   "cell_type": "code",
   "execution_count": 207,
   "metadata": {},
   "outputs": [
    {
     "data": {
      "text/html": [
       "<div>\n",
       "<style scoped>\n",
       "    .dataframe tbody tr th:only-of-type {\n",
       "        vertical-align: middle;\n",
       "    }\n",
       "\n",
       "    .dataframe tbody tr th {\n",
       "        vertical-align: top;\n",
       "    }\n",
       "\n",
       "    .dataframe thead th {\n",
       "        text-align: right;\n",
       "    }\n",
       "</style>\n",
       "<table border=\"1\" class=\"dataframe\">\n",
       "  <thead>\n",
       "    <tr style=\"text-align: right;\">\n",
       "      <th></th>\n",
       "      <th>date</th>\n",
       "      <th>sub_region_code</th>\n",
       "      <th>demand</th>\n",
       "      <th>temperature_2m</th>\n",
       "    </tr>\n",
       "  </thead>\n",
       "  <tbody>\n",
       "    <tr>\n",
       "      <th>10</th>\n",
       "      <td>2024-10-13 06:00:00+00:00</td>\n",
       "      <td>0</td>\n",
       "      <td>1370</td>\n",
       "      <td>7.2085</td>\n",
       "    </tr>\n",
       "    <tr>\n",
       "      <th>22</th>\n",
       "      <td>2024-11-03 03:00:00+00:00</td>\n",
       "      <td>0</td>\n",
       "      <td>1548</td>\n",
       "      <td>9.2585</td>\n",
       "    </tr>\n",
       "    <tr>\n",
       "      <th>56</th>\n",
       "      <td>2024-11-25 16:00:00+00:00</td>\n",
       "      <td>0</td>\n",
       "      <td>1870</td>\n",
       "      <td>0.6585</td>\n",
       "    </tr>\n",
       "    <tr>\n",
       "      <th>62</th>\n",
       "      <td>2024-10-10 15:00:00+00:00</td>\n",
       "      <td>0</td>\n",
       "      <td>1585</td>\n",
       "      <td>15.3585</td>\n",
       "    </tr>\n",
       "    <tr>\n",
       "      <th>64</th>\n",
       "      <td>2024-05-23 18:00:00+00:00</td>\n",
       "      <td>0</td>\n",
       "      <td>1493</td>\n",
       "      <td>16.9585</td>\n",
       "    </tr>\n",
       "  </tbody>\n",
       "</table>\n",
       "</div>"
      ],
      "text/plain": [
       "                        date  sub_region_code demand  temperature_2m\n",
       "10 2024-10-13 06:00:00+00:00                0   1370          7.2085\n",
       "22 2024-11-03 03:00:00+00:00                0   1548          9.2585\n",
       "56 2024-11-25 16:00:00+00:00                0   1870          0.6585\n",
       "62 2024-10-10 15:00:00+00:00                0   1585         15.3585\n",
       "64 2024-05-23 18:00:00+00:00                0   1493         16.9585"
      ]
     },
     "execution_count": 207,
     "metadata": {},
     "output_type": "execute_result"
    }
   ],
   "source": [
    "df_sub_0 = data[data[\"sub_region_code\"] == 0]\n",
    "df_sub_0.head()"
   ]
  },
  {
   "cell_type": "code",
   "execution_count": 208,
   "metadata": {},
   "outputs": [
    {
     "name": "stderr",
     "output_type": "stream",
     "text": [
      "SettingWithCopyWarning: \n",
      "A value is trying to be set on a copy of a slice from a DataFrame\n",
      "\n",
      "See the caveats in the documentation: https://pandas.pydata.org/pandas-docs/stable/user_guide/indexing.html#returning-a-view-versus-a-copy\n"
     ]
    },
    {
     "data": {
      "text/html": [
       "<div>\n",
       "<style scoped>\n",
       "    .dataframe tbody tr th:only-of-type {\n",
       "        vertical-align: middle;\n",
       "    }\n",
       "\n",
       "    .dataframe tbody tr th {\n",
       "        vertical-align: top;\n",
       "    }\n",
       "\n",
       "    .dataframe thead th {\n",
       "        text-align: right;\n",
       "    }\n",
       "</style>\n",
       "<table border=\"1\" class=\"dataframe\">\n",
       "  <thead>\n",
       "    <tr style=\"text-align: right;\">\n",
       "      <th></th>\n",
       "      <th>date</th>\n",
       "      <th>sub_region_code</th>\n",
       "      <th>demand</th>\n",
       "      <th>temperature_2m</th>\n",
       "    </tr>\n",
       "  </thead>\n",
       "  <tbody>\n",
       "    <tr>\n",
       "      <th>16049</th>\n",
       "      <td>2024-01-01 04:00:00+00:00</td>\n",
       "      <td>0</td>\n",
       "      <td>1516</td>\n",
       "      <td>12.2585</td>\n",
       "    </tr>\n",
       "    <tr>\n",
       "      <th>20802</th>\n",
       "      <td>2024-01-01 05:00:00+00:00</td>\n",
       "      <td>0</td>\n",
       "      <td>1450</td>\n",
       "      <td>11.8585</td>\n",
       "    </tr>\n",
       "    <tr>\n",
       "      <th>20725</th>\n",
       "      <td>2024-01-01 06:00:00+00:00</td>\n",
       "      <td>0</td>\n",
       "      <td>1384</td>\n",
       "      <td>12.0585</td>\n",
       "    </tr>\n",
       "    <tr>\n",
       "      <th>75386</th>\n",
       "      <td>2024-01-01 07:00:00+00:00</td>\n",
       "      <td>0</td>\n",
       "      <td>1351</td>\n",
       "      <td>12.3585</td>\n",
       "    </tr>\n",
       "    <tr>\n",
       "      <th>42482</th>\n",
       "      <td>2024-01-01 08:00:00+00:00</td>\n",
       "      <td>0</td>\n",
       "      <td>1335</td>\n",
       "      <td>11.8085</td>\n",
       "    </tr>\n",
       "    <tr>\n",
       "      <th>...</th>\n",
       "      <td>...</td>\n",
       "      <td>...</td>\n",
       "      <td>...</td>\n",
       "      <td>...</td>\n",
       "    </tr>\n",
       "    <tr>\n",
       "      <th>75666</th>\n",
       "      <td>2024-12-31 14:00:00+00:00</td>\n",
       "      <td>0</td>\n",
       "      <td>1912</td>\n",
       "      <td>4.8585</td>\n",
       "    </tr>\n",
       "    <tr>\n",
       "      <th>39664</th>\n",
       "      <td>2024-12-31 15:00:00+00:00</td>\n",
       "      <td>0</td>\n",
       "      <td>1926</td>\n",
       "      <td>4.8585</td>\n",
       "    </tr>\n",
       "    <tr>\n",
       "      <th>89958</th>\n",
       "      <td>2024-12-31 16:00:00+00:00</td>\n",
       "      <td>0</td>\n",
       "      <td>1942</td>\n",
       "      <td>4.9585</td>\n",
       "    </tr>\n",
       "    <tr>\n",
       "      <th>19780</th>\n",
       "      <td>2024-12-31 17:00:00+00:00</td>\n",
       "      <td>0</td>\n",
       "      <td>1952</td>\n",
       "      <td>5.1085</td>\n",
       "    </tr>\n",
       "    <tr>\n",
       "      <th>83359</th>\n",
       "      <td>2024-12-31 18:00:00+00:00</td>\n",
       "      <td>0</td>\n",
       "      <td>1961</td>\n",
       "      <td>5.5085</td>\n",
       "    </tr>\n",
       "  </tbody>\n",
       "</table>\n",
       "<p>8775 rows × 4 columns</p>\n",
       "</div>"
      ],
      "text/plain": [
       "                           date  sub_region_code demand  temperature_2m\n",
       "16049 2024-01-01 04:00:00+00:00                0   1516         12.2585\n",
       "20802 2024-01-01 05:00:00+00:00                0   1450         11.8585\n",
       "20725 2024-01-01 06:00:00+00:00                0   1384         12.0585\n",
       "75386 2024-01-01 07:00:00+00:00                0   1351         12.3585\n",
       "42482 2024-01-01 08:00:00+00:00                0   1335         11.8085\n",
       "...                         ...              ...    ...             ...\n",
       "75666 2024-12-31 14:00:00+00:00                0   1912          4.8585\n",
       "39664 2024-12-31 15:00:00+00:00                0   1926          4.8585\n",
       "89958 2024-12-31 16:00:00+00:00                0   1942          4.9585\n",
       "19780 2024-12-31 17:00:00+00:00                0   1952          5.1085\n",
       "83359 2024-12-31 18:00:00+00:00                0   1961          5.5085\n",
       "\n",
       "[8775 rows x 4 columns]"
      ]
     },
     "execution_count": 208,
     "metadata": {},
     "output_type": "execute_result"
    }
   ],
   "source": [
    "# drop `date` column\n",
    "# df_sub_0.drop('seconds', axis=1, inplace=True)\n",
    "\n",
    "# sort by `pickup_location_id` and `pickup_hour`\n",
    "df_sub_0.sort_values(by=['date'], inplace=True)\n",
    "df_sub_0"
   ]
  },
  {
   "cell_type": "code",
   "execution_count": 209,
   "metadata": {},
   "outputs": [
    {
     "name": "stderr",
     "output_type": "stream",
     "text": [
      "SettingWithCopyWarning: \n",
      "A value is trying to be set on a copy of a slice from a DataFrame\n",
      "\n",
      "See the caveats in the documentation: https://pandas.pydata.org/pandas-docs/stable/user_guide/indexing.html#returning-a-view-versus-a-copy\n"
     ]
    }
   ],
   "source": [
    "df_sub_0.drop(['sub_region_code', 'temperature_2m'], axis=1, inplace=True)"
   ]
  },
  {
   "cell_type": "code",
   "execution_count": 210,
   "metadata": {},
   "outputs": [],
   "source": [
    "df_inf = df_sub_0.copy()"
   ]
  },
  {
   "cell_type": "code",
   "execution_count": 211,
   "metadata": {},
   "outputs": [],
   "source": [
    "df_inf['demand'] = pd.to_numeric(df_inf['demand'])\n",
    "df_inf['date'] = pd.to_datetime(df_inf['date'])"
   ]
  },
  {
   "cell_type": "code",
   "execution_count": 212,
   "metadata": {},
   "outputs": [],
   "source": [
    "df_inf = df_inf.set_index('date')"
   ]
  },
  {
   "cell_type": "code",
   "execution_count": 213,
   "metadata": {},
   "outputs": [
    {
     "name": "stdout",
     "output_type": "stream",
     "text": [
      "<class 'pandas.core.frame.DataFrame'>\n",
      "DatetimeIndex: 8775 entries, 2024-01-01 04:00:00+00:00 to 2024-12-31 18:00:00+00:00\n",
      "Data columns (total 1 columns):\n",
      " #   Column  Non-Null Count  Dtype\n",
      "---  ------  --------------  -----\n",
      " 0   demand  8775 non-null   int64\n",
      "dtypes: int64(1)\n",
      "memory usage: 137.1 KB\n"
     ]
    }
   ],
   "source": [
    "df_inf.info()"
   ]
  },
  {
   "cell_type": "code",
   "execution_count": 214,
   "metadata": {},
   "outputs": [
    {
     "name": "stdout",
     "output_type": "stream",
     "text": [
      "                           demand\n",
      "date                             \n",
      "2024-01-01 04:00:00+00:00    1516\n",
      "2024-01-01 05:00:00+00:00    1450\n",
      "2024-01-01 06:00:00+00:00    1384\n",
      "2024-01-01 07:00:00+00:00    1351\n",
      "2024-01-01 08:00:00+00:00    1335\n",
      "...                           ...\n",
      "2024-12-31 14:00:00+00:00    1912\n",
      "2024-12-31 15:00:00+00:00    1926\n",
      "2024-12-31 16:00:00+00:00    1942\n",
      "2024-12-31 17:00:00+00:00    1952\n",
      "2024-12-31 18:00:00+00:00    1961\n",
      "\n",
      "[8775 rows x 1 columns]\n"
     ]
    }
   ],
   "source": [
    "print(df_inf)"
   ]
  },
  {
   "cell_type": "code",
   "execution_count": 215,
   "metadata": {},
   "outputs": [],
   "source": [
    "test_data = df_inf.copy()"
   ]
  },
  {
   "cell_type": "code",
   "execution_count": 216,
   "metadata": {},
   "outputs": [
    {
     "data": {
      "text/html": [
       "<div>\n",
       "<style scoped>\n",
       "    .dataframe tbody tr th:only-of-type {\n",
       "        vertical-align: middle;\n",
       "    }\n",
       "\n",
       "    .dataframe tbody tr th {\n",
       "        vertical-align: top;\n",
       "    }\n",
       "\n",
       "    .dataframe thead th {\n",
       "        text-align: right;\n",
       "    }\n",
       "</style>\n",
       "<table border=\"1\" class=\"dataframe\">\n",
       "  <thead>\n",
       "    <tr style=\"text-align: right;\">\n",
       "      <th></th>\n",
       "      <th>demand</th>\n",
       "    </tr>\n",
       "    <tr>\n",
       "      <th>date</th>\n",
       "      <th></th>\n",
       "    </tr>\n",
       "  </thead>\n",
       "  <tbody>\n",
       "    <tr>\n",
       "      <th>2024-01-01 04:00:00+00:00</th>\n",
       "      <td>1516</td>\n",
       "    </tr>\n",
       "    <tr>\n",
       "      <th>2024-01-01 05:00:00+00:00</th>\n",
       "      <td>1450</td>\n",
       "    </tr>\n",
       "    <tr>\n",
       "      <th>2024-01-01 06:00:00+00:00</th>\n",
       "      <td>1384</td>\n",
       "    </tr>\n",
       "    <tr>\n",
       "      <th>2024-01-01 07:00:00+00:00</th>\n",
       "      <td>1351</td>\n",
       "    </tr>\n",
       "    <tr>\n",
       "      <th>2024-01-01 08:00:00+00:00</th>\n",
       "      <td>1335</td>\n",
       "    </tr>\n",
       "  </tbody>\n",
       "</table>\n",
       "</div>"
      ],
      "text/plain": [
       "                           demand\n",
       "date                             \n",
       "2024-01-01 04:00:00+00:00    1516\n",
       "2024-01-01 05:00:00+00:00    1450\n",
       "2024-01-01 06:00:00+00:00    1384\n",
       "2024-01-01 07:00:00+00:00    1351\n",
       "2024-01-01 08:00:00+00:00    1335"
      ]
     },
     "execution_count": 216,
     "metadata": {},
     "output_type": "execute_result"
    }
   ],
   "source": [
    "test_data.head()"
   ]
  },
  {
   "cell_type": "code",
   "execution_count": 217,
   "metadata": {},
   "outputs": [
    {
     "data": {
      "text/html": [
       "<div>\n",
       "<style scoped>\n",
       "    .dataframe tbody tr th:only-of-type {\n",
       "        vertical-align: middle;\n",
       "    }\n",
       "\n",
       "    .dataframe tbody tr th {\n",
       "        vertical-align: top;\n",
       "    }\n",
       "\n",
       "    .dataframe thead th {\n",
       "        text-align: right;\n",
       "    }\n",
       "</style>\n",
       "<table border=\"1\" class=\"dataframe\">\n",
       "  <thead>\n",
       "    <tr style=\"text-align: right;\">\n",
       "      <th></th>\n",
       "      <th>demand</th>\n",
       "    </tr>\n",
       "    <tr>\n",
       "      <th>date</th>\n",
       "      <th></th>\n",
       "    </tr>\n",
       "  </thead>\n",
       "  <tbody>\n",
       "    <tr>\n",
       "      <th>2024-12-31 14:00:00+00:00</th>\n",
       "      <td>1912</td>\n",
       "    </tr>\n",
       "    <tr>\n",
       "      <th>2024-12-31 15:00:00+00:00</th>\n",
       "      <td>1926</td>\n",
       "    </tr>\n",
       "    <tr>\n",
       "      <th>2024-12-31 16:00:00+00:00</th>\n",
       "      <td>1942</td>\n",
       "    </tr>\n",
       "    <tr>\n",
       "      <th>2024-12-31 17:00:00+00:00</th>\n",
       "      <td>1952</td>\n",
       "    </tr>\n",
       "    <tr>\n",
       "      <th>2024-12-31 18:00:00+00:00</th>\n",
       "      <td>1961</td>\n",
       "    </tr>\n",
       "  </tbody>\n",
       "</table>\n",
       "</div>"
      ],
      "text/plain": [
       "                           demand\n",
       "date                             \n",
       "2024-12-31 14:00:00+00:00    1912\n",
       "2024-12-31 15:00:00+00:00    1926\n",
       "2024-12-31 16:00:00+00:00    1942\n",
       "2024-12-31 17:00:00+00:00    1952\n",
       "2024-12-31 18:00:00+00:00    1961"
      ]
     },
     "execution_count": 217,
     "metadata": {},
     "output_type": "execute_result"
    }
   ],
   "source": [
    "test_data.tail()"
   ]
  },
  {
   "cell_type": "code",
   "execution_count": 218,
   "metadata": {},
   "outputs": [],
   "source": [
    "start = \"2025-04-05 18:00:00+00:00\t\"\n",
    "end = \"2025-04-06 18:00:00+00:00\"\n",
    "\n",
    "# Slice the DataFrame using the datetime range\n",
    "check_data = test_data.loc[start:end]"
   ]
  },
  {
   "cell_type": "code",
   "execution_count": 219,
   "metadata": {},
   "outputs": [
    {
     "data": {
      "text/html": [
       "<div>\n",
       "<style scoped>\n",
       "    .dataframe tbody tr th:only-of-type {\n",
       "        vertical-align: middle;\n",
       "    }\n",
       "\n",
       "    .dataframe tbody tr th {\n",
       "        vertical-align: top;\n",
       "    }\n",
       "\n",
       "    .dataframe thead th {\n",
       "        text-align: right;\n",
       "    }\n",
       "</style>\n",
       "<table border=\"1\" class=\"dataframe\">\n",
       "  <thead>\n",
       "    <tr style=\"text-align: right;\">\n",
       "      <th></th>\n",
       "      <th>demand</th>\n",
       "    </tr>\n",
       "    <tr>\n",
       "      <th>date</th>\n",
       "      <th></th>\n",
       "    </tr>\n",
       "  </thead>\n",
       "  <tbody>\n",
       "  </tbody>\n",
       "</table>\n",
       "</div>"
      ],
      "text/plain": [
       "Empty DataFrame\n",
       "Columns: [demand]\n",
       "Index: []"
      ]
     },
     "execution_count": 219,
     "metadata": {},
     "output_type": "execute_result"
    }
   ],
   "source": [
    "check_data.iloc[:20]"
   ]
  },
  {
   "cell_type": "code",
   "execution_count": 220,
   "metadata": {},
   "outputs": [],
   "source": [
    "start = \"2024-01-01 18:00:00+00:00\"\n",
    "end = \"2024-04-05 18:00:00+00:00\"\n",
    "\n",
    "# Slice the DataFrame using the datetime range\n",
    "filtered_df = test_data.loc[start:end]"
   ]
  },
  {
   "cell_type": "code",
   "execution_count": 221,
   "metadata": {},
   "outputs": [
    {
     "data": {
      "text/html": [
       "<div>\n",
       "<style scoped>\n",
       "    .dataframe tbody tr th:only-of-type {\n",
       "        vertical-align: middle;\n",
       "    }\n",
       "\n",
       "    .dataframe tbody tr th {\n",
       "        vertical-align: top;\n",
       "    }\n",
       "\n",
       "    .dataframe thead th {\n",
       "        text-align: right;\n",
       "    }\n",
       "</style>\n",
       "<table border=\"1\" class=\"dataframe\">\n",
       "  <thead>\n",
       "    <tr style=\"text-align: right;\">\n",
       "      <th></th>\n",
       "      <th>demand</th>\n",
       "    </tr>\n",
       "    <tr>\n",
       "      <th>date</th>\n",
       "      <th></th>\n",
       "    </tr>\n",
       "  </thead>\n",
       "  <tbody>\n",
       "    <tr>\n",
       "      <th>2024-01-01 18:00:00+00:00</th>\n",
       "      <td>1563</td>\n",
       "    </tr>\n",
       "    <tr>\n",
       "      <th>2024-01-01 19:00:00+00:00</th>\n",
       "      <td>1555</td>\n",
       "    </tr>\n",
       "    <tr>\n",
       "      <th>2024-01-01 20:00:00+00:00</th>\n",
       "      <td>1570</td>\n",
       "    </tr>\n",
       "    <tr>\n",
       "      <th>2024-01-01 21:00:00+00:00</th>\n",
       "      <td>1603</td>\n",
       "    </tr>\n",
       "    <tr>\n",
       "      <th>2024-01-01 22:00:00+00:00</th>\n",
       "      <td>1670</td>\n",
       "    </tr>\n",
       "  </tbody>\n",
       "</table>\n",
       "</div>"
      ],
      "text/plain": [
       "                           demand\n",
       "date                             \n",
       "2024-01-01 18:00:00+00:00    1563\n",
       "2024-01-01 19:00:00+00:00    1555\n",
       "2024-01-01 20:00:00+00:00    1570\n",
       "2024-01-01 21:00:00+00:00    1603\n",
       "2024-01-01 22:00:00+00:00    1670"
      ]
     },
     "execution_count": 221,
     "metadata": {},
     "output_type": "execute_result"
    }
   ],
   "source": [
    "filtered_df.head()"
   ]
  },
  {
   "cell_type": "code",
   "execution_count": 222,
   "metadata": {},
   "outputs": [
    {
     "data": {
      "text/html": [
       "<div>\n",
       "<style scoped>\n",
       "    .dataframe tbody tr th:only-of-type {\n",
       "        vertical-align: middle;\n",
       "    }\n",
       "\n",
       "    .dataframe tbody tr th {\n",
       "        vertical-align: top;\n",
       "    }\n",
       "\n",
       "    .dataframe thead th {\n",
       "        text-align: right;\n",
       "    }\n",
       "</style>\n",
       "<table border=\"1\" class=\"dataframe\">\n",
       "  <thead>\n",
       "    <tr style=\"text-align: right;\">\n",
       "      <th></th>\n",
       "      <th>demand</th>\n",
       "    </tr>\n",
       "    <tr>\n",
       "      <th>date</th>\n",
       "      <th></th>\n",
       "    </tr>\n",
       "  </thead>\n",
       "  <tbody>\n",
       "    <tr>\n",
       "      <th>2024-04-05 14:00:00+00:00</th>\n",
       "      <td>1506</td>\n",
       "    </tr>\n",
       "    <tr>\n",
       "      <th>2024-04-05 15:00:00+00:00</th>\n",
       "      <td>1488</td>\n",
       "    </tr>\n",
       "    <tr>\n",
       "      <th>2024-04-05 16:00:00+00:00</th>\n",
       "      <td>1462</td>\n",
       "    </tr>\n",
       "    <tr>\n",
       "      <th>2024-04-05 17:00:00+00:00</th>\n",
       "      <td>1449</td>\n",
       "    </tr>\n",
       "    <tr>\n",
       "      <th>2024-04-05 18:00:00+00:00</th>\n",
       "      <td>1444</td>\n",
       "    </tr>\n",
       "  </tbody>\n",
       "</table>\n",
       "</div>"
      ],
      "text/plain": [
       "                           demand\n",
       "date                             \n",
       "2024-04-05 14:00:00+00:00    1506\n",
       "2024-04-05 15:00:00+00:00    1488\n",
       "2024-04-05 16:00:00+00:00    1462\n",
       "2024-04-05 17:00:00+00:00    1449\n",
       "2024-04-05 18:00:00+00:00    1444"
      ]
     },
     "execution_count": 222,
     "metadata": {},
     "output_type": "execute_result"
    }
   ],
   "source": [
    "filtered_df.tail()"
   ]
  },
  {
   "cell_type": "code",
   "execution_count": 223,
   "metadata": {},
   "outputs": [
    {
     "name": "stdout",
     "output_type": "stream",
     "text": [
      "2025-04-12 15:34:21,760 INFO: Closing external client and cleaning up certificates.\n",
      "Connection closed.\n",
      "2025-04-12 15:34:21,766 INFO: Initializing external client\n",
      "2025-04-12 15:34:21,767 INFO: Base URL: https://c.app.hopsworks.ai:443\n"
     ]
    },
    {
     "name": "stdout",
     "output_type": "stream",
     "text": [
      "2025-04-12 15:34:22,243 INFO: Python Engine initialized.\n",
      "\n",
      "Logged in to project, explore it here https://c.app.hopsworks.ai:443/p/1222815\n"
     ]
    },
    {
     "data": {
      "application/vnd.jupyter.widget-view+json": {
       "model_id": "9d6b113965844078a2936d7015346582",
       "version_major": 2,
       "version_minor": 0
      },
      "text/plain": [
       "Downloading: 0.000%|          | 0/6343537 elapsed<00:00 remaining<?"
      ]
     },
     "metadata": {},
     "output_type": "display_data"
    },
    {
     "name": "stdout",
     "output_type": "stream",
     "text": [
      "Downloading model artifact (0 dirs, 1 files)... \r"
     ]
    },
    {
     "data": {
      "application/vnd.jupyter.widget-view+json": {
       "model_id": "263bc4a2cd4b477f9aee710291598f00",
       "version_major": 2,
       "version_minor": 0
      },
      "text/plain": [
       "Downloading: 0.000%|          | 0/218141 elapsed<00:00 remaining<?"
      ]
     },
     "metadata": {},
     "output_type": "display_data"
    },
    {
     "name": "stdout",
     "output_type": "stream",
     "text": [
      "Downloading model artifact (0 dirs, 2 files)... \r"
     ]
    },
    {
     "data": {
      "application/vnd.jupyter.widget-view+json": {
       "model_id": "9eb15e55a32c4969b4f8ad792e75c3ff",
       "version_major": 2,
       "version_minor": 0
      },
      "text/plain": [
       "Downloading: 0.000%|          | 0/616 elapsed<00:00 remaining<?"
      ]
     },
     "metadata": {},
     "output_type": "display_data"
    },
    {
     "name": "stdout",
     "output_type": "stream",
     "text": [
      "Downloading model artifact (0 dirs, 3 files)... DONE\r"
     ]
    }
   ],
   "source": [
    "from src.component.inference import (\n",
    "    load_model_and_scaler_from_registry\n",
    ")\n",
    "\n",
    "model, scaler = load_model_and_scaler_from_registry()"
   ]
  },
  {
   "cell_type": "code",
   "execution_count": 245,
   "metadata": {},
   "outputs": [],
   "source": [
    "from src.inference_tr import ElectricityDemandPredictor"
   ]
  },
  {
   "cell_type": "code",
   "execution_count": 246,
   "metadata": {},
   "outputs": [],
   "source": [
    "predictor = ElectricityDemandPredictor(\n",
    "        model, scaler\n",
    "    )"
   ]
  },
  {
   "cell_type": "code",
   "execution_count": 226,
   "metadata": {},
   "outputs": [],
   "source": [
    "# predictor.fit_scaler(filtered_df)"
   ]
  },
  {
   "cell_type": "code",
   "execution_count": 275,
   "metadata": {},
   "outputs": [
    {
     "name": "stderr",
     "output_type": "stream",
     "text": [
      "UserWarning: X does not have valid feature names, but MinMaxScaler was fitted with feature names\n"
     ]
    },
    {
     "name": "stdout",
     "output_type": "stream",
     "text": [
      "Predictions for next 24 hours:\n",
      "(2024-04-05 19:00:00+00:00): 1456.50\n",
      "(2024-04-05 20:00:00+00:00): 1482.58\n",
      "(2024-04-05 21:00:00+00:00): 1521.14\n",
      "(2024-04-05 22:00:00+00:00): 1569.42\n",
      "(2024-04-05 23:00:00+00:00): 1617.03\n",
      "(2024-04-06 00:00:00+00:00): 1645.07\n",
      "(2024-04-06 01:00:00+00:00): 1642.58\n",
      "(2024-04-06 02:00:00+00:00): 1609.01\n",
      "(2024-04-06 03:00:00+00:00): 1552.87\n",
      "(2024-04-06 04:00:00+00:00): 1498.73\n",
      "(2024-04-06 05:00:00+00:00): 1461.25\n",
      "(2024-04-06 06:00:00+00:00): 1443.46\n",
      "(2024-04-06 07:00:00+00:00): 1447.22\n",
      "(2024-04-06 08:00:00+00:00): 1472.61\n",
      "(2024-04-06 09:00:00+00:00): 1517.08\n",
      "(2024-04-06 10:00:00+00:00): 1571.93\n",
      "(2024-04-06 11:00:00+00:00): 1614.46\n",
      "(2024-04-06 12:00:00+00:00): 1627.75\n",
      "(2024-04-06 13:00:00+00:00): 1611.35\n",
      "(2024-04-06 14:00:00+00:00): 1576.26\n",
      "(2024-04-06 15:00:00+00:00): 1536.59\n",
      "(2024-04-06 16:00:00+00:00): 1503.45\n",
      "(2024-04-06 17:00:00+00:00): 1485.01\n",
      "(2024-04-06 18:00:00+00:00): 1484.74\n"
     ]
    }
   ],
   "source": [
    "# predictions = predictor.predict_next_n_steps(filtered_df, n_steps=24)\n",
    "\n",
    "# # Show predictions\n",
    "# print(\"Predictions for next 24 hours:\")\n",
    "# for i, pred in enumerate(predictions):\n",
    "#     print(f\"Hour {i+1}: {pred:.2f}\")\n",
    "    \n",
    "# Generate predictions\n",
    "predictions_df = predictor.predict_next_n_steps(filtered_df, n_steps=24)\n",
    "\n",
    "# Show predictions\n",
    "print(\"Predictions for next 24 hours:\")\n",
    "for i, (date, row) in enumerate(predictions_df.iterrows()):\n",
    "    print(f\"({date}): {row['demand']:.2f}\")"
   ]
  },
  {
   "cell_type": "code",
   "execution_count": 276,
   "metadata": {},
   "outputs": [
    {
     "data": {
      "text/html": [
       "<div>\n",
       "<style scoped>\n",
       "    .dataframe tbody tr th:only-of-type {\n",
       "        vertical-align: middle;\n",
       "    }\n",
       "\n",
       "    .dataframe tbody tr th {\n",
       "        vertical-align: top;\n",
       "    }\n",
       "\n",
       "    .dataframe thead th {\n",
       "        text-align: right;\n",
       "    }\n",
       "</style>\n",
       "<table border=\"1\" class=\"dataframe\">\n",
       "  <thead>\n",
       "    <tr style=\"text-align: right;\">\n",
       "      <th></th>\n",
       "      <th>demand</th>\n",
       "    </tr>\n",
       "    <tr>\n",
       "      <th>date</th>\n",
       "      <th></th>\n",
       "    </tr>\n",
       "  </thead>\n",
       "  <tbody>\n",
       "    <tr>\n",
       "      <th>2024-04-05 19:00:00+00:00</th>\n",
       "      <td>1456.500058</td>\n",
       "    </tr>\n",
       "    <tr>\n",
       "      <th>2024-04-05 20:00:00+00:00</th>\n",
       "      <td>1482.576506</td>\n",
       "    </tr>\n",
       "    <tr>\n",
       "      <th>2024-04-05 21:00:00+00:00</th>\n",
       "      <td>1521.136438</td>\n",
       "    </tr>\n",
       "    <tr>\n",
       "      <th>2024-04-05 22:00:00+00:00</th>\n",
       "      <td>1569.422822</td>\n",
       "    </tr>\n",
       "    <tr>\n",
       "      <th>2024-04-05 23:00:00+00:00</th>\n",
       "      <td>1617.028479</td>\n",
       "    </tr>\n",
       "    <tr>\n",
       "      <th>2024-04-06 00:00:00+00:00</th>\n",
       "      <td>1645.071698</td>\n",
       "    </tr>\n",
       "    <tr>\n",
       "      <th>2024-04-06 01:00:00+00:00</th>\n",
       "      <td>1642.575116</td>\n",
       "    </tr>\n",
       "    <tr>\n",
       "      <th>2024-04-06 02:00:00+00:00</th>\n",
       "      <td>1609.013282</td>\n",
       "    </tr>\n",
       "    <tr>\n",
       "      <th>2024-04-06 03:00:00+00:00</th>\n",
       "      <td>1552.865831</td>\n",
       "    </tr>\n",
       "    <tr>\n",
       "      <th>2024-04-06 04:00:00+00:00</th>\n",
       "      <td>1498.730543</td>\n",
       "    </tr>\n",
       "    <tr>\n",
       "      <th>2024-04-06 05:00:00+00:00</th>\n",
       "      <td>1461.246325</td>\n",
       "    </tr>\n",
       "    <tr>\n",
       "      <th>2024-04-06 06:00:00+00:00</th>\n",
       "      <td>1443.461702</td>\n",
       "    </tr>\n",
       "    <tr>\n",
       "      <th>2024-04-06 07:00:00+00:00</th>\n",
       "      <td>1447.220559</td>\n",
       "    </tr>\n",
       "    <tr>\n",
       "      <th>2024-04-06 08:00:00+00:00</th>\n",
       "      <td>1472.610752</td>\n",
       "    </tr>\n",
       "    <tr>\n",
       "      <th>2024-04-06 09:00:00+00:00</th>\n",
       "      <td>1517.079190</td>\n",
       "    </tr>\n",
       "    <tr>\n",
       "      <th>2024-04-06 10:00:00+00:00</th>\n",
       "      <td>1571.933122</td>\n",
       "    </tr>\n",
       "    <tr>\n",
       "      <th>2024-04-06 11:00:00+00:00</th>\n",
       "      <td>1614.455282</td>\n",
       "    </tr>\n",
       "    <tr>\n",
       "      <th>2024-04-06 12:00:00+00:00</th>\n",
       "      <td>1627.754828</td>\n",
       "    </tr>\n",
       "    <tr>\n",
       "      <th>2024-04-06 13:00:00+00:00</th>\n",
       "      <td>1611.349797</td>\n",
       "    </tr>\n",
       "    <tr>\n",
       "      <th>2024-04-06 14:00:00+00:00</th>\n",
       "      <td>1576.263783</td>\n",
       "    </tr>\n",
       "    <tr>\n",
       "      <th>2024-04-06 15:00:00+00:00</th>\n",
       "      <td>1536.594046</td>\n",
       "    </tr>\n",
       "    <tr>\n",
       "      <th>2024-04-06 16:00:00+00:00</th>\n",
       "      <td>1503.454964</td>\n",
       "    </tr>\n",
       "    <tr>\n",
       "      <th>2024-04-06 17:00:00+00:00</th>\n",
       "      <td>1485.007407</td>\n",
       "    </tr>\n",
       "    <tr>\n",
       "      <th>2024-04-06 18:00:00+00:00</th>\n",
       "      <td>1484.738069</td>\n",
       "    </tr>\n",
       "  </tbody>\n",
       "</table>\n",
       "</div>"
      ],
      "text/plain": [
       "                                demand\n",
       "date                                  \n",
       "2024-04-05 19:00:00+00:00  1456.500058\n",
       "2024-04-05 20:00:00+00:00  1482.576506\n",
       "2024-04-05 21:00:00+00:00  1521.136438\n",
       "2024-04-05 22:00:00+00:00  1569.422822\n",
       "2024-04-05 23:00:00+00:00  1617.028479\n",
       "2024-04-06 00:00:00+00:00  1645.071698\n",
       "2024-04-06 01:00:00+00:00  1642.575116\n",
       "2024-04-06 02:00:00+00:00  1609.013282\n",
       "2024-04-06 03:00:00+00:00  1552.865831\n",
       "2024-04-06 04:00:00+00:00  1498.730543\n",
       "2024-04-06 05:00:00+00:00  1461.246325\n",
       "2024-04-06 06:00:00+00:00  1443.461702\n",
       "2024-04-06 07:00:00+00:00  1447.220559\n",
       "2024-04-06 08:00:00+00:00  1472.610752\n",
       "2024-04-06 09:00:00+00:00  1517.079190\n",
       "2024-04-06 10:00:00+00:00  1571.933122\n",
       "2024-04-06 11:00:00+00:00  1614.455282\n",
       "2024-04-06 12:00:00+00:00  1627.754828\n",
       "2024-04-06 13:00:00+00:00  1611.349797\n",
       "2024-04-06 14:00:00+00:00  1576.263783\n",
       "2024-04-06 15:00:00+00:00  1536.594046\n",
       "2024-04-06 16:00:00+00:00  1503.454964\n",
       "2024-04-06 17:00:00+00:00  1485.007407\n",
       "2024-04-06 18:00:00+00:00  1484.738069"
      ]
     },
     "execution_count": 276,
     "metadata": {},
     "output_type": "execute_result"
    }
   ],
   "source": [
    "predictions_df"
   ]
  },
  {
   "cell_type": "code",
   "execution_count": 250,
   "metadata": {},
   "outputs": [],
   "source": [
    "start = \"2024-04-05 19:00:00+00:00\"\n",
    "end = \"2024-04-06 19:00:00+00:00\"\n",
    "\n",
    "# Slice the DataFrame using the datetime \n",
    "maybe_df = test_data.loc[start:end]"
   ]
  },
  {
   "cell_type": "code",
   "execution_count": 251,
   "metadata": {},
   "outputs": [
    {
     "data": {
      "text/html": [
       "<div>\n",
       "<style scoped>\n",
       "    .dataframe tbody tr th:only-of-type {\n",
       "        vertical-align: middle;\n",
       "    }\n",
       "\n",
       "    .dataframe tbody tr th {\n",
       "        vertical-align: top;\n",
       "    }\n",
       "\n",
       "    .dataframe thead th {\n",
       "        text-align: right;\n",
       "    }\n",
       "</style>\n",
       "<table border=\"1\" class=\"dataframe\">\n",
       "  <thead>\n",
       "    <tr style=\"text-align: right;\">\n",
       "      <th></th>\n",
       "      <th>demand</th>\n",
       "    </tr>\n",
       "    <tr>\n",
       "      <th>date</th>\n",
       "      <th></th>\n",
       "    </tr>\n",
       "  </thead>\n",
       "  <tbody>\n",
       "    <tr>\n",
       "      <th>2024-04-05 19:00:00+00:00</th>\n",
       "      <td>1410</td>\n",
       "    </tr>\n",
       "    <tr>\n",
       "      <th>2024-04-05 20:00:00+00:00</th>\n",
       "      <td>1405</td>\n",
       "    </tr>\n",
       "    <tr>\n",
       "      <th>2024-04-05 21:00:00+00:00</th>\n",
       "      <td>1403</td>\n",
       "    </tr>\n",
       "    <tr>\n",
       "      <th>2024-04-05 22:00:00+00:00</th>\n",
       "      <td>1431</td>\n",
       "    </tr>\n",
       "    <tr>\n",
       "      <th>2024-04-05 23:00:00+00:00</th>\n",
       "      <td>1478</td>\n",
       "    </tr>\n",
       "    <tr>\n",
       "      <th>2024-04-06 00:00:00+00:00</th>\n",
       "      <td>1527</td>\n",
       "    </tr>\n",
       "    <tr>\n",
       "      <th>2024-04-06 01:00:00+00:00</th>\n",
       "      <td>1580</td>\n",
       "    </tr>\n",
       "    <tr>\n",
       "      <th>2024-04-06 02:00:00+00:00</th>\n",
       "      <td>1559</td>\n",
       "    </tr>\n",
       "    <tr>\n",
       "      <th>2024-04-06 03:00:00+00:00</th>\n",
       "      <td>1531</td>\n",
       "    </tr>\n",
       "    <tr>\n",
       "      <th>2024-04-06 04:00:00+00:00</th>\n",
       "      <td>1483</td>\n",
       "    </tr>\n",
       "    <tr>\n",
       "      <th>2024-04-06 05:00:00+00:00</th>\n",
       "      <td>1429</td>\n",
       "    </tr>\n",
       "    <tr>\n",
       "      <th>2024-04-06 06:00:00+00:00</th>\n",
       "      <td>1404</td>\n",
       "    </tr>\n",
       "    <tr>\n",
       "      <th>2024-04-06 07:00:00+00:00</th>\n",
       "      <td>1396</td>\n",
       "    </tr>\n",
       "    <tr>\n",
       "      <th>2024-04-06 08:00:00+00:00</th>\n",
       "      <td>1391</td>\n",
       "    </tr>\n",
       "    <tr>\n",
       "      <th>2024-04-06 09:00:00+00:00</th>\n",
       "      <td>1408</td>\n",
       "    </tr>\n",
       "    <tr>\n",
       "      <th>2024-04-06 10:00:00+00:00</th>\n",
       "      <td>1433</td>\n",
       "    </tr>\n",
       "    <tr>\n",
       "      <th>2024-04-06 11:00:00+00:00</th>\n",
       "      <td>1466</td>\n",
       "    </tr>\n",
       "    <tr>\n",
       "      <th>2024-04-06 12:00:00+00:00</th>\n",
       "      <td>1485</td>\n",
       "    </tr>\n",
       "    <tr>\n",
       "      <th>2024-04-06 13:00:00+00:00</th>\n",
       "      <td>1489</td>\n",
       "    </tr>\n",
       "    <tr>\n",
       "      <th>2024-04-06 14:00:00+00:00</th>\n",
       "      <td>1446</td>\n",
       "    </tr>\n",
       "    <tr>\n",
       "      <th>2024-04-06 15:00:00+00:00</th>\n",
       "      <td>1430</td>\n",
       "    </tr>\n",
       "    <tr>\n",
       "      <th>2024-04-06 16:00:00+00:00</th>\n",
       "      <td>1405</td>\n",
       "    </tr>\n",
       "    <tr>\n",
       "      <th>2024-04-06 17:00:00+00:00</th>\n",
       "      <td>1372</td>\n",
       "    </tr>\n",
       "    <tr>\n",
       "      <th>2024-04-06 18:00:00+00:00</th>\n",
       "      <td>1358</td>\n",
       "    </tr>\n",
       "    <tr>\n",
       "      <th>2024-04-06 19:00:00+00:00</th>\n",
       "      <td>1337</td>\n",
       "    </tr>\n",
       "  </tbody>\n",
       "</table>\n",
       "</div>"
      ],
      "text/plain": [
       "                           demand\n",
       "date                             \n",
       "2024-04-05 19:00:00+00:00    1410\n",
       "2024-04-05 20:00:00+00:00    1405\n",
       "2024-04-05 21:00:00+00:00    1403\n",
       "2024-04-05 22:00:00+00:00    1431\n",
       "2024-04-05 23:00:00+00:00    1478\n",
       "2024-04-06 00:00:00+00:00    1527\n",
       "2024-04-06 01:00:00+00:00    1580\n",
       "2024-04-06 02:00:00+00:00    1559\n",
       "2024-04-06 03:00:00+00:00    1531\n",
       "2024-04-06 04:00:00+00:00    1483\n",
       "2024-04-06 05:00:00+00:00    1429\n",
       "2024-04-06 06:00:00+00:00    1404\n",
       "2024-04-06 07:00:00+00:00    1396\n",
       "2024-04-06 08:00:00+00:00    1391\n",
       "2024-04-06 09:00:00+00:00    1408\n",
       "2024-04-06 10:00:00+00:00    1433\n",
       "2024-04-06 11:00:00+00:00    1466\n",
       "2024-04-06 12:00:00+00:00    1485\n",
       "2024-04-06 13:00:00+00:00    1489\n",
       "2024-04-06 14:00:00+00:00    1446\n",
       "2024-04-06 15:00:00+00:00    1430\n",
       "2024-04-06 16:00:00+00:00    1405\n",
       "2024-04-06 17:00:00+00:00    1372\n",
       "2024-04-06 18:00:00+00:00    1358\n",
       "2024-04-06 19:00:00+00:00    1337"
      ]
     },
     "execution_count": 251,
     "metadata": {},
     "output_type": "execute_result"
    }
   ],
   "source": [
    "maybe_df"
   ]
  },
  {
   "cell_type": "code",
   "execution_count": 252,
   "metadata": {},
   "outputs": [
    {
     "data": {
      "image/png": "[encoded data removed]",
      "text/plain": [
       "<Figure size 1500x600 with 1 Axes>"
      ]
     },
     "metadata": {},
     "output_type": "display_data"
    }
   ],
   "source": [
    "# Plot results\n",
    "predictor.plot_prediction(filtered_df, predictions_df)"
   ]
  },
  {
   "cell_type": "code",
   "execution_count": 277,
   "metadata": {},
   "outputs": [],
   "source": [
    "# Reset index so 'date' becomes a column\n",
    "predictions_df = predictions_df.reset_index()\n",
    "\n",
    "# Ensure 'date' column is in datetime format\n",
    "predictions_df['date'] = pd.to_datetime(predictions_df['date'])\n"
   ]
  },
  {
   "cell_type": "code",
   "execution_count": 278,
   "metadata": {},
   "outputs": [
    {
     "data": {
      "text/html": [
       "<div>\n",
       "<style scoped>\n",
       "    .dataframe tbody tr th:only-of-type {\n",
       "        vertical-align: middle;\n",
       "    }\n",
       "\n",
       "    .dataframe tbody tr th {\n",
       "        vertical-align: top;\n",
       "    }\n",
       "\n",
       "    .dataframe thead th {\n",
       "        text-align: right;\n",
       "    }\n",
       "</style>\n",
       "<table border=\"1\" class=\"dataframe\">\n",
       "  <thead>\n",
       "    <tr style=\"text-align: right;\">\n",
       "      <th></th>\n",
       "      <th>date</th>\n",
       "      <th>demand</th>\n",
       "    </tr>\n",
       "  </thead>\n",
       "  <tbody>\n",
       "    <tr>\n",
       "      <th>0</th>\n",
       "      <td>2024-04-05 19:00:00+00:00</td>\n",
       "      <td>1456.500058</td>\n",
       "    </tr>\n",
       "    <tr>\n",
       "      <th>1</th>\n",
       "      <td>2024-04-05 20:00:00+00:00</td>\n",
       "      <td>1482.576506</td>\n",
       "    </tr>\n",
       "    <tr>\n",
       "      <th>2</th>\n",
       "      <td>2024-04-05 21:00:00+00:00</td>\n",
       "      <td>1521.136438</td>\n",
       "    </tr>\n",
       "    <tr>\n",
       "      <th>3</th>\n",
       "      <td>2024-04-05 22:00:00+00:00</td>\n",
       "      <td>1569.422822</td>\n",
       "    </tr>\n",
       "    <tr>\n",
       "      <th>4</th>\n",
       "      <td>2024-04-05 23:00:00+00:00</td>\n",
       "      <td>1617.028479</td>\n",
       "    </tr>\n",
       "    <tr>\n",
       "      <th>5</th>\n",
       "      <td>2024-04-06 00:00:00+00:00</td>\n",
       "      <td>1645.071698</td>\n",
       "    </tr>\n",
       "    <tr>\n",
       "      <th>6</th>\n",
       "      <td>2024-04-06 01:00:00+00:00</td>\n",
       "      <td>1642.575116</td>\n",
       "    </tr>\n",
       "    <tr>\n",
       "      <th>7</th>\n",
       "      <td>2024-04-06 02:00:00+00:00</td>\n",
       "      <td>1609.013282</td>\n",
       "    </tr>\n",
       "    <tr>\n",
       "      <th>8</th>\n",
       "      <td>2024-04-06 03:00:00+00:00</td>\n",
       "      <td>1552.865831</td>\n",
       "    </tr>\n",
       "    <tr>\n",
       "      <th>9</th>\n",
       "      <td>2024-04-06 04:00:00+00:00</td>\n",
       "      <td>1498.730543</td>\n",
       "    </tr>\n",
       "    <tr>\n",
       "      <th>10</th>\n",
       "      <td>2024-04-06 05:00:00+00:00</td>\n",
       "      <td>1461.246325</td>\n",
       "    </tr>\n",
       "    <tr>\n",
       "      <th>11</th>\n",
       "      <td>2024-04-06 06:00:00+00:00</td>\n",
       "      <td>1443.461702</td>\n",
       "    </tr>\n",
       "    <tr>\n",
       "      <th>12</th>\n",
       "      <td>2024-04-06 07:00:00+00:00</td>\n",
       "      <td>1447.220559</td>\n",
       "    </tr>\n",
       "    <tr>\n",
       "      <th>13</th>\n",
       "      <td>2024-04-06 08:00:00+00:00</td>\n",
       "      <td>1472.610752</td>\n",
       "    </tr>\n",
       "    <tr>\n",
       "      <th>14</th>\n",
       "      <td>2024-04-06 09:00:00+00:00</td>\n",
       "      <td>1517.079190</td>\n",
       "    </tr>\n",
       "    <tr>\n",
       "      <th>15</th>\n",
       "      <td>2024-04-06 10:00:00+00:00</td>\n",
       "      <td>1571.933122</td>\n",
       "    </tr>\n",
       "    <tr>\n",
       "      <th>16</th>\n",
       "      <td>2024-04-06 11:00:00+00:00</td>\n",
       "      <td>1614.455282</td>\n",
       "    </tr>\n",
       "    <tr>\n",
       "      <th>17</th>\n",
       "      <td>2024-04-06 12:00:00+00:00</td>\n",
       "      <td>1627.754828</td>\n",
       "    </tr>\n",
       "    <tr>\n",
       "      <th>18</th>\n",
       "      <td>2024-04-06 13:00:00+00:00</td>\n",
       "      <td>1611.349797</td>\n",
       "    </tr>\n",
       "    <tr>\n",
       "      <th>19</th>\n",
       "      <td>2024-04-06 14:00:00+00:00</td>\n",
       "      <td>1576.263783</td>\n",
       "    </tr>\n",
       "    <tr>\n",
       "      <th>20</th>\n",
       "      <td>2024-04-06 15:00:00+00:00</td>\n",
       "      <td>1536.594046</td>\n",
       "    </tr>\n",
       "    <tr>\n",
       "      <th>21</th>\n",
       "      <td>2024-04-06 16:00:00+00:00</td>\n",
       "      <td>1503.454964</td>\n",
       "    </tr>\n",
       "    <tr>\n",
       "      <th>22</th>\n",
       "      <td>2024-04-06 17:00:00+00:00</td>\n",
       "      <td>1485.007407</td>\n",
       "    </tr>\n",
       "    <tr>\n",
       "      <th>23</th>\n",
       "      <td>2024-04-06 18:00:00+00:00</td>\n",
       "      <td>1484.738069</td>\n",
       "    </tr>\n",
       "  </tbody>\n",
       "</table>\n",
       "</div>"
      ],
      "text/plain": [
       "                        date       demand\n",
       "0  2024-04-05 19:00:00+00:00  1456.500058\n",
       "1  2024-04-05 20:00:00+00:00  1482.576506\n",
       "2  2024-04-05 21:00:00+00:00  1521.136438\n",
       "3  2024-04-05 22:00:00+00:00  1569.422822\n",
       "4  2024-04-05 23:00:00+00:00  1617.028479\n",
       "5  2024-04-06 00:00:00+00:00  1645.071698\n",
       "6  2024-04-06 01:00:00+00:00  1642.575116\n",
       "7  2024-04-06 02:00:00+00:00  1609.013282\n",
       "8  2024-04-06 03:00:00+00:00  1552.865831\n",
       "9  2024-04-06 04:00:00+00:00  1498.730543\n",
       "10 2024-04-06 05:00:00+00:00  1461.246325\n",
       "11 2024-04-06 06:00:00+00:00  1443.461702\n",
       "12 2024-04-06 07:00:00+00:00  1447.220559\n",
       "13 2024-04-06 08:00:00+00:00  1472.610752\n",
       "14 2024-04-06 09:00:00+00:00  1517.079190\n",
       "15 2024-04-06 10:00:00+00:00  1571.933122\n",
       "16 2024-04-06 11:00:00+00:00  1614.455282\n",
       "17 2024-04-06 12:00:00+00:00  1627.754828\n",
       "18 2024-04-06 13:00:00+00:00  1611.349797\n",
       "19 2024-04-06 14:00:00+00:00  1576.263783\n",
       "20 2024-04-06 15:00:00+00:00  1536.594046\n",
       "21 2024-04-06 16:00:00+00:00  1503.454964\n",
       "22 2024-04-06 17:00:00+00:00  1485.007407\n",
       "23 2024-04-06 18:00:00+00:00  1484.738069"
      ]
     },
     "execution_count": 278,
     "metadata": {},
     "output_type": "execute_result"
    }
   ],
   "source": [
    "predictions_df"
   ]
  },
  {
   "cell_type": "code",
   "execution_count": 279,
   "metadata": {},
   "outputs": [
    {
     "name": "stdout",
     "output_type": "stream",
     "text": [
      "2025-04-12 16:14:40,097 INFO: Closing external client and cleaning up certificates.\n",
      "Connection closed.\n",
      "2025-04-12 16:14:40,098 INFO: Initializing external client\n",
      "2025-04-12 16:14:40,099 INFO: Base URL: https://c.app.hopsworks.ai:443\n"
     ]
    },
    {
     "name": "stdout",
     "output_type": "stream",
     "text": [
      "2025-04-12 16:14:40,557 INFO: Python Engine initialized.\n",
      "\n",
      "Logged in to project, explore it here https://c.app.hopsworks.ai:443/p/1222815\n"
     ]
    }
   ],
   "source": [
    "#save predictions to the feature store\n",
    "from src.component.feature_store_api import get_feature_store\n",
    "import src.component.feature_group_config as config\n",
    "\n",
    "# connect to the feature group\n",
    "feature_group = get_feature_store().get_or_create_feature_group(\n",
    "    name=config.FEATURE_GROUP_MODEL_PREDICTIONS,\n",
    "    version=2,\n",
    "    description=\"Predictions generate by our production model\",\n",
    "    primary_key = ['date']\n",
    ")"
   ]
  },
  {
   "cell_type": "code",
   "execution_count": 280,
   "metadata": {},
   "outputs": [
    {
     "name": "stdout",
     "output_type": "stream",
     "text": [
      "Feature Group created successfully, explore it at \n",
      "https://c.app.hopsworks.ai:443/p/1222815/fs/1209423/fg/1435131\n"
     ]
    },
    {
     "name": "stderr",
     "output_type": "stream",
     "text": [
      "Uploading Dataframe: 100.00% |██████████| Rows 24/24 | Elapsed Time: 00:00 | Remaining Time: 00:00\n"
     ]
    },
    {
     "name": "stdout",
     "output_type": "stream",
     "text": [
      "Launching job: transformer_model_predictions_feature_group_1_offline_fg_materialization\n",
      "Job started successfully, you can follow the progress at \n",
      "https://c.app.hopsworks.ai:443/p/1222815/jobs/named/transformer_model_predictions_feature_group_1_offline_fg_materialization/executions\n"
     ]
    },
    {
     "data": {
      "text/plain": [
       "(Job('transformer_model_predictions_feature_group_1_offline_fg_materialization', 'SPARK'),\n",
       " None)"
      ]
     },
     "execution_count": 280,
     "metadata": {},
     "output_type": "execute_result"
    }
   ],
   "source": [
    "feature_group.insert(predictions_df, write_options={\"wait_for_job\": False})"
   ]
  }
 ],
 "metadata": {
  "kernelspec": {
   "display_name": "src-o1faXYQI-py3.12",
   "language": "python",
   "name": "python3"
  },
  "language_info": {
   "codemirror_mode": {
    "name": "ipython",
    "version": 3
   },
   "file_extension": ".py",
   "mimetype": "text/x-python",
   "name": "python",
   "nbconvert_exporter": "python",
   "pygments_lexer": "ipython3",
   "version": "3.12.1"
  }
 },
 "nbformat": 4,
 "nbformat_minor": 2
}
